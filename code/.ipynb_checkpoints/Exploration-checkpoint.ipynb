{
 "cells": [
  {
   "cell_type": "markdown",
   "metadata": {},
   "source": [
    "# Data Exploration"
   ]
  },
  {
   "cell_type": "markdown",
   "metadata": {},
   "source": [
    "## Import Libraries & Dataset"
   ]
  },
  {
   "cell_type": "code",
   "execution_count": 1,
   "metadata": {},
   "outputs": [],
   "source": [
    "import pandas as pd\n",
    "pd.set_option('display.max_rows', 100) # to look at more rows of data later\n",
    "pd.set_option('display.max_columns', 100) # to expand columns view so that all can be seen later"
   ]
  },
  {
   "cell_type": "code",
   "execution_count": 2,
   "metadata": {},
   "outputs": [],
   "source": [
    "# Load datasets\n",
    "train_df = pd.read_csv('../datasets/train.csv')\n",
    "test_df = pd.read_csv('../datasets/test.csv')"
   ]
  },
  {
   "cell_type": "markdown",
   "metadata": {},
   "source": [
    "## Exploring Data"
   ]
  },
  {
   "cell_type": "markdown",
   "metadata": {},
   "source": [
    "### Identify data types in dataset"
   ]
  },
  {
   "cell_type": "code",
   "execution_count": 3,
   "metadata": {},
   "outputs": [
    {
     "data": {
      "text/plain": [
       "Id                   int64\n",
       "PID                  int64\n",
       "MS SubClass          int64\n",
       "MS Zoning           object\n",
       "Lot Frontage       float64\n",
       "Lot Area             int64\n",
       "Street              object\n",
       "Alley               object\n",
       "Lot Shape           object\n",
       "Land Contour        object\n",
       "Utilities           object\n",
       "Lot Config          object\n",
       "Land Slope          object\n",
       "Neighborhood        object\n",
       "Condition 1         object\n",
       "Condition 2         object\n",
       "Bldg Type           object\n",
       "House Style         object\n",
       "Overall Qual         int64\n",
       "Overall Cond         int64\n",
       "Year Built           int64\n",
       "Year Remod/Add       int64\n",
       "Roof Style          object\n",
       "Roof Matl           object\n",
       "Exterior 1st        object\n",
       "Exterior 2nd        object\n",
       "Mas Vnr Type        object\n",
       "Mas Vnr Area       float64\n",
       "Exter Qual          object\n",
       "Exter Cond          object\n",
       "Foundation          object\n",
       "Bsmt Qual           object\n",
       "Bsmt Cond           object\n",
       "Bsmt Exposure       object\n",
       "BsmtFin Type 1      object\n",
       "BsmtFin SF 1       float64\n",
       "BsmtFin Type 2      object\n",
       "BsmtFin SF 2       float64\n",
       "Bsmt Unf SF        float64\n",
       "Total Bsmt SF      float64\n",
       "Heating             object\n",
       "Heating QC          object\n",
       "Central Air         object\n",
       "Electrical          object\n",
       "1st Flr SF           int64\n",
       "2nd Flr SF           int64\n",
       "Low Qual Fin SF      int64\n",
       "Gr Liv Area          int64\n",
       "Bsmt Full Bath     float64\n",
       "Bsmt Half Bath     float64\n",
       "Full Bath            int64\n",
       "Half Bath            int64\n",
       "Bedroom AbvGr        int64\n",
       "Kitchen AbvGr        int64\n",
       "Kitchen Qual        object\n",
       "TotRms AbvGrd        int64\n",
       "Functional          object\n",
       "Fireplaces           int64\n",
       "Fireplace Qu        object\n",
       "Garage Type         object\n",
       "Garage Yr Blt      float64\n",
       "Garage Finish       object\n",
       "Garage Cars        float64\n",
       "Garage Area        float64\n",
       "Garage Qual         object\n",
       "Garage Cond         object\n",
       "Paved Drive         object\n",
       "Wood Deck SF         int64\n",
       "Open Porch SF        int64\n",
       "Enclosed Porch       int64\n",
       "3Ssn Porch           int64\n",
       "Screen Porch         int64\n",
       "Pool Area            int64\n",
       "Pool QC             object\n",
       "Fence               object\n",
       "Misc Feature        object\n",
       "Misc Val             int64\n",
       "Mo Sold              int64\n",
       "Yr Sold              int64\n",
       "Sale Type           object\n",
       "SalePrice            int64\n",
       "dtype: object"
      ]
     },
     "execution_count": 3,
     "metadata": {},
     "output_type": "execute_result"
    }
   ],
   "source": [
    "# For this case, we will only need to check train_df since both have the same column data\n",
    "train_df.dtypes"
   ]
  },
  {
   "cell_type": "markdown",
   "metadata": {},
   "source": [
    "#### Observations\n",
    "\n",
    "From our understanding of the data dictionary, <b>MS Sub Class</b> is considered as categorical data despite being a numerical column (the value represents class of the building), so this will be required to be converted later.\n",
    "\n",
    "Same goes for <b>Mo Sold</b> as well, since the value represents the month in a year and not the value.\n",
    "\n",
    "The following columns: <b>Yr Sold, Year Built, Year Remod/Add, Garage Yr Blt</b> are all in years even though they are numeric.\n",
    "Instead of using them as it is, we can use these values to calculate 3 new values that may make more sense, namely:\n",
    "\n",
    "1. age_house = Yr Sold - Year Built<br>\n",
    "This is to calculate the age of the house when it was sold\n",
    "2. num_years_remod = Yr Sold - Year Remod/Add <br>\n",
    "This is to calculate year difference between the year it was sold and the year it was remod.\n",
    "3. age_garage = Yr Sold - Garage Yr Blt<br>\n",
    "This is to calculate the age of the garage when it was sold. If age is 0, it means there is no garage present.\n"
   ]
  },
  {
   "cell_type": "markdown",
   "metadata": {},
   "source": [
    "### Check for amount of null values per column"
   ]
  },
  {
   "cell_type": "code",
   "execution_count": 4,
   "metadata": {},
   "outputs": [
    {
     "data": {
      "text/plain": [
       "Pool QC           0.995612\n",
       "Misc Feature      0.968308\n",
       "Alley             0.931741\n",
       "Fence             0.804973\n",
       "Fireplace Qu      0.487567\n",
       "Lot Frontage      0.160897\n",
       "Garage Finish     0.055583\n",
       "Garage Cond       0.055583\n",
       "Garage Qual       0.055583\n",
       "Garage Yr Blt     0.055583\n",
       "Garage Type       0.055095\n",
       "Bsmt Exposure     0.028279\n",
       "BsmtFin Type 2    0.027304\n",
       "BsmtFin Type 1    0.026816\n",
       "Bsmt Cond         0.026816\n",
       "Bsmt Qual         0.026816\n",
       "Mas Vnr Type      0.010726\n",
       "Mas Vnr Area      0.010726\n",
       "Bsmt Half Bath    0.000975\n",
       "Bsmt Full Bath    0.000975\n",
       "Garage Cars       0.000488\n",
       "Garage Area       0.000488\n",
       "Bsmt Unf SF       0.000488\n",
       "BsmtFin SF 2      0.000488\n",
       "Total Bsmt SF     0.000488\n",
       "BsmtFin SF 1      0.000488\n",
       "dtype: float64"
      ]
     },
     "execution_count": 4,
     "metadata": {},
     "output_type": "execute_result"
    }
   ],
   "source": [
    "# For training data\n",
    "s = pd.Series(train_df.isnull().mean().sort_values(ascending=False))\n",
    "s[s > 0]"
   ]
  },
  {
   "cell_type": "code",
   "execution_count": 5,
   "metadata": {},
   "outputs": [
    {
     "data": {
      "text/plain": [
       "Pool QC           0.995449\n",
       "Misc Feature      0.953356\n",
       "Alley             0.934016\n",
       "Fence             0.804323\n",
       "Fireplace Qu      0.480091\n",
       "Lot Frontage      0.182025\n",
       "Garage Cond       0.051195\n",
       "Garage Qual       0.051195\n",
       "Garage Yr Blt     0.051195\n",
       "Garage Finish     0.051195\n",
       "Garage Type       0.050057\n",
       "Bsmt Exposure     0.028441\n",
       "BsmtFin Type 1    0.028441\n",
       "Bsmt Qual         0.028441\n",
       "BsmtFin Type 2    0.028441\n",
       "Bsmt Cond         0.028441\n",
       "Mas Vnr Area      0.001138\n",
       "Mas Vnr Type      0.001138\n",
       "Electrical        0.001138\n",
       "dtype: float64"
      ]
     },
     "execution_count": 5,
     "metadata": {},
     "output_type": "execute_result"
    }
   ],
   "source": [
    "# for test data\n",
    "s = pd.Series(test_df.isnull().mean().sort_values(ascending=False))\n",
    "s[s > 0]"
   ]
  },
  {
   "cell_type": "markdown",
   "metadata": {},
   "source": [
    "#### Observations\n",
    "\n",
    "For the features <b>Pool QC, Misc Feature</b> and <b>Alley</b>, since > 90% of the data values are null, we will drop the columns completely.\n",
    "Remaining null values above will be required to be filled in later."
   ]
  },
  {
   "cell_type": "markdown",
   "metadata": {},
   "source": [
    "### Logic checking between columns/Relationship between columns\n",
    "\n",
    "We will need to check the following columns to ensure the columns are logically sound.\n",
    "This is also to validate the relationship between the columns.\n",
    "\n",
    "1. Yr Sold >= Garage Yr Blt/Year Built\n",
    "2. Year Remod/Add >= Year Built\n",
    "3. Total Bsmt SF = BsmtFin SF 1 + BsmtFin SF 2 + Bsmt Unf SF\n",
    "4. Gr Liv Area = 1st Flr SF + 2nd Flr SF + Low Qual Fin SF\n"
   ]
  },
  {
   "cell_type": "markdown",
   "metadata": {},
   "source": [
    "### Any other new insights we can gather with existing data?\n",
    "\n",
    "Assuming the above relationship holds, we can choose to calculate the overall area of the house (which we can name as overallsf). <br>\n",
    "Calculation of the overall will be as follows: <br>\n",
    "\n",
    "overallsf = Gr Liv Area + Total Bsmt SF\n",
    "\n",
    "This will give us a more general idea of the size of the house, which may help us to determine how size affects the price of a house.\n",
    "\n",
    "During feature selection, we can drop BsmtFin SF 1, BsmtFin SF 2, Bsmt Unf SF, 1st Flr SF, 2nd Flr SF and Low Qual Fin SF to avoid multicollinearity issues when doing our modeling.\n",
    "\n",
    "Additionally, looking at the data dictionary, <b>Garage Cars</b> and <b>Garage Area</b> are both measurements of the garage but with different units. We may opt to drop <b>Garage Cars</b> because of collinearity issues as well.\n",
    "\n",
    "The data dictionary have also highlighted that houses with <b>Gr Liv Area greater than 4000</b> to be removed as those are deemed as outliers, which will need to be taken care of."
   ]
  },
  {
   "cell_type": "code",
   "execution_count": null,
   "metadata": {},
   "outputs": [],
   "source": []
  }
 ],
 "metadata": {
  "kernelspec": {
   "display_name": "Python 3",
   "language": "python",
   "name": "python3"
  },
  "language_info": {
   "codemirror_mode": {
    "name": "ipython",
    "version": 3
   },
   "file_extension": ".py",
   "mimetype": "text/x-python",
   "name": "python",
   "nbconvert_exporter": "python",
   "pygments_lexer": "ipython3",
   "version": "3.7.3"
  }
 },
 "nbformat": 4,
 "nbformat_minor": 4
}
